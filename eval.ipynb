{
 "cells": [
  {
   "cell_type": "code",
   "execution_count": 10,
   "metadata": {},
   "outputs": [],
   "source": [
    "import torch\n",
    "from dataloader import EmbeddingsDataloader\n",
    "from torch.utils.data import DataLoader\n",
    "models = torch.load('saved_models_singleperceptron_best_performance.save')"
   ]
  },
  {
   "cell_type": "code",
   "execution_count": 8,
   "metadata": {},
   "outputs": [
    {
     "name": "stdout",
     "output_type": "stream",
     "text": [
      "64\n"
     ]
    }
   ],
   "source": [
    "model = models[-1][2]\n",
    "frames_per_datapoint = int(models[-1][1].split(' ')[2].split(')')[0])\n",
    "print(frames_per_datapoint)"
   ]
  },
  {
   "cell_type": "code",
   "execution_count": 12,
   "metadata": {},
   "outputs": [
    {
     "ename": "TypeError",
     "evalue": "empty(): argument 'size' must be tuple of ints, but found element of type Tensor at pos 2",
     "output_type": "error",
     "traceback": [
      "\u001b[1;31m---------------------------------------------------------------------------\u001b[0m",
      "\u001b[1;31mTypeError\u001b[0m                                 Traceback (most recent call last)",
      "Cell \u001b[1;32mIn[12], line 22\u001b[0m\n\u001b[0;32m     19\u001b[0m             classified\u001b[39m.\u001b[39mappend(res\u001b[39m.\u001b[39mcpu()\u001b[39m.\u001b[39mnumpy())\n\u001b[0;32m     20\u001b[0m         \u001b[39mreturn\u001b[39;00m \u001b[39mround\u001b[39m(correct \u001b[39m/\u001b[39m total_attempts, \u001b[39m3\u001b[39m), classified, ground_truth\n\u001b[1;32m---> 22\u001b[0m testacc, y_hat, y \u001b[39m=\u001b[39m test()\n",
      "Cell \u001b[1;32mIn[12], line 13\u001b[0m, in \u001b[0;36mtest\u001b[1;34m()\u001b[0m\n\u001b[0;32m     11\u001b[0m \u001b[39mfor\u001b[39;00m x, y \u001b[39min\u001b[39;00m test_dataloader:\n\u001b[0;32m     12\u001b[0m     x, y \u001b[39m=\u001b[39m x\u001b[39m.\u001b[39mto(device), y\u001b[39m.\u001b[39mto(device)\n\u001b[1;32m---> 13\u001b[0m     res \u001b[39m=\u001b[39m model(x)\n\u001b[0;32m     14\u001b[0m     \u001b[39m# label = one_hot(y[:,-1].type(torch.int64), num_classes=9).float()\u001b[39;00m\n\u001b[0;32m     15\u001b[0m     total_attempts \u001b[39m+\u001b[39m\u001b[39m=\u001b[39m x\u001b[39m.\u001b[39mshape[\u001b[39m0\u001b[39m]\n",
      "File \u001b[1;32md:\\GHDesktop\\Gesture-Recognition\\model.py:10\u001b[0m, in \u001b[0;36mSingleLayerPerceptron.__init__\u001b[1;34m(self, width)\u001b[0m\n\u001b[0;32m      7\u001b[0m \u001b[39msuper\u001b[39m(SingleLayerPerceptron, \u001b[39mself\u001b[39m)\u001b[39m.\u001b[39m\u001b[39m__init__\u001b[39m()\n\u001b[0;32m      8\u001b[0m \u001b[39mself\u001b[39m\u001b[39m.\u001b[39mwidth \u001b[39m=\u001b[39m width\n\u001b[1;32m---> 10\u001b[0m \u001b[39mself\u001b[39m\u001b[39m.\u001b[39ml1 \u001b[39m=\u001b[39m Linear(\u001b[39m384\u001b[39;49m \u001b[39m*\u001b[39;49m width, \u001b[39m9\u001b[39;49m)\n\u001b[0;32m     11\u001b[0m \u001b[39mself\u001b[39m\u001b[39m.\u001b[39mnl1 \u001b[39m=\u001b[39m ReLU()\n",
      "File \u001b[1;32mc:\\Users\\nataxcan\\miniconda3\\envs\\compviz2\\lib\\site-packages\\torch\\nn\\modules\\linear.py:96\u001b[0m, in \u001b[0;36mLinear.__init__\u001b[1;34m(self, in_features, out_features, bias, device, dtype)\u001b[0m\n\u001b[0;32m     94\u001b[0m \u001b[39mself\u001b[39m\u001b[39m.\u001b[39min_features \u001b[39m=\u001b[39m in_features\n\u001b[0;32m     95\u001b[0m \u001b[39mself\u001b[39m\u001b[39m.\u001b[39mout_features \u001b[39m=\u001b[39m out_features\n\u001b[1;32m---> 96\u001b[0m \u001b[39mself\u001b[39m\u001b[39m.\u001b[39mweight \u001b[39m=\u001b[39m Parameter(torch\u001b[39m.\u001b[39mempty((out_features, in_features), \u001b[39m*\u001b[39m\u001b[39m*\u001b[39mfactory_kwargs))\n\u001b[0;32m     97\u001b[0m \u001b[39mif\u001b[39;00m bias:\n\u001b[0;32m     98\u001b[0m     \u001b[39mself\u001b[39m\u001b[39m.\u001b[39mbias \u001b[39m=\u001b[39m Parameter(torch\u001b[39m.\u001b[39mempty(out_features, \u001b[39m*\u001b[39m\u001b[39m*\u001b[39mfactory_kwargs))\n",
      "\u001b[1;31mTypeError\u001b[0m: empty(): argument 'size' must be tuple of ints, but found element of type Tensor at pos 2"
     ]
    }
   ],
   "source": [
    "device = 'mps' if torch.backends.mps.is_available() else 'cuda' if torch.cuda.is_available() else 'cpu'\n",
    "\n",
    "test_dataset = EmbeddingsDataloader(width=frames_per_datapoint, mode='test', overlap=False)\n",
    "test_dataloader = DataLoader(test_dataset, batch_size=512)\n",
    "def test():\n",
    "    with torch.no_grad():\n",
    "        total_attempts = 0\n",
    "        correct = 0\n",
    "        classified = []\n",
    "        ground_truth = []\n",
    "        for x, y in test_dataloader:\n",
    "            x, y = x.to(device), y.to(device)\n",
    "            res = model(x)\n",
    "            # label = one_hot(y[:,-1].type(torch.int64), num_classes=9).float()\n",
    "            total_attempts += x.shape[0]\n",
    "            correct += float((y[:,-1] == torch.argmax(res, dim=-1)).sum())\n",
    "\n",
    "            ground_truth.append(torch.one_hot(y[:,-1].type(torch.int64), num_classes=9).float().cpu().numpy())\n",
    "            classified.append(res.cpu().numpy())\n",
    "        return round(correct / total_attempts, 3), classified, ground_truth\n",
    "\n",
    "testacc, y_hat, y = test()"
   ]
  }
 ],
 "metadata": {
  "kernelspec": {
   "display_name": "compviz2",
   "language": "python",
   "name": "python3"
  },
  "language_info": {
   "codemirror_mode": {
    "name": "ipython",
    "version": 3
   },
   "file_extension": ".py",
   "mimetype": "text/x-python",
   "name": "python",
   "nbconvert_exporter": "python",
   "pygments_lexer": "ipython3",
   "version": "3.9.16"
  },
  "orig_nbformat": 4
 },
 "nbformat": 4,
 "nbformat_minor": 2
}
