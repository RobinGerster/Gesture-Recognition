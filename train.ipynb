{
 "cells": [
  {
   "cell_type": "code",
   "execution_count": null,
   "metadata": {},
   "outputs": [],
   "source": [
    "from dataloader import EmbeddingsDataloader\n",
    "from torch.utils.data import DataLoader\n",
    "from torch.nn.functional import one_hot\n",
    "from model import *\n",
    "import matplotlib.pyplot as plt\n",
    "import torch\n",
    "from tqdm.auto import tqdm\n",
    "import time\n",
    "import numpy as np\n",
    "import copy\n",
    "from train import run_training, Run"
   ]
  },
  {
   "cell_type": "code",
   "execution_count": null,
   "metadata": {},
   "outputs": [],
   "source": [
    "# # sample run\n",
    "# r = Run()\n",
    "# losses, test_accs, best_model = r.run_experiment()\n",
    "# r.plot_results()"
   ]
  },
  {
   "cell_type": "code",
   "execution_count": null,
   "metadata": {},
   "outputs": [],
   "source": [
    "import itertools\n",
    "\n",
    "# this is a simple experiment to see if there is a link\n",
    "# between model capacity and performance\n",
    "models = [\n",
    "    SingleLayerPerceptron,\n",
    "    MultiLayerPerceptron2,\n",
    "    MultiLayerPerceptron3,\n",
    "    MultiLayerPerceptron4,\n",
    "]\n",
    "widths = [\n",
    "    1,\n",
    "    4,\n",
    "    16,\n",
    "    64,\n",
    "]\n",
    "combinations = list(itertools.product(models, widths))\n",
    "number_of_experiments_to_average_over = 10\n",
    "raw_results = []\n",
    "results = []\n",
    "\n",
    "\n",
    "for i, elems in tqdm(enumerate(combinations), total=len(combinations), desc='combinations progress'):\n",
    "    raw_results.append([])\n",
    "    losses_sum = None\n",
    "    test_accs_sum = None\n",
    "    for _ in range(number_of_experiments_to_average_over):\n",
    "        # run the experiment\n",
    "        model, width = elems\n",
    "        r = Run(model=model, frames_per_datapoint=width)\n",
    "        losses, test_accs, best_model = r.run_experiment()\n",
    "        # sum the results (for averaging later)\n",
    "        results.append((max(test_accs), losses, test_accs, str((model, width))))\n",
    "        if isinstance(losses_sum, type(None)):\n",
    "            losses_sum = np.array(losses)\n",
    "            test_accs_sum = np.array(test_accs)\n",
    "        else:\n",
    "            losses_sum += np.array(losses)\n",
    "            test_accs_sum += np.array(test_accs)\n",
    "    # average the results\n",
    "    avg_losses = losses_sum / number_of_experiments_to_average_over\n",
    "    avg_test_accs = test_accs_sum / number_of_experiments_to_average_over\n",
    "    results.append(max(avg_test_accs), str(elems), str(model), width, avg_losses, avg_test_accs)\n",
    "\n",
    "# which combination gave the best average performance?\n",
    "results.sort()\n",
    "[print(R) for R in results]"
   ]
  }
 ],
 "metadata": {
  "kernelspec": {
   "display_name": "graphml",
   "language": "python",
   "name": "python3"
  },
  "language_info": {
   "codemirror_mode": {
    "name": "ipython",
    "version": 3
   },
   "file_extension": ".py",
   "mimetype": "text/x-python",
   "name": "python",
   "nbconvert_exporter": "python",
   "pygments_lexer": "ipython3",
   "version": "3.9.16"
  },
  "orig_nbformat": 4
 },
 "nbformat": 4,
 "nbformat_minor": 2
}
