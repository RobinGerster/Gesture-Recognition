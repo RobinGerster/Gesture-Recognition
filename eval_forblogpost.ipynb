{
 "cells": [
  {
   "cell_type": "code",
   "execution_count": 35,
   "metadata": {},
   "outputs": [],
   "source": [
    "from dataloader import EmbeddingsDataloader\n",
    "from model import SingleLayerPerceptron\n",
    "from torch.utils.data import DataLoader\n",
    "import torch\n",
    "\n",
    "frames_per_datapoint = 64\n",
    "device = 'cpu'"
   ]
  },
  {
   "cell_type": "code",
   "execution_count": 36,
   "metadata": {},
   "outputs": [],
   "source": [
    "models = torch.load('saved_models_singleperceptron_best_performance.save')\n",
    "model = models[-1][2](frames_per_datapoint)"
   ]
  },
  {
   "cell_type": "code",
   "execution_count": 37,
   "metadata": {},
   "outputs": [
    {
     "data": {
      "text/plain": [
       "0.107"
      ]
     },
     "execution_count": 37,
     "metadata": {},
     "output_type": "execute_result"
    }
   ],
   "source": [
    "test_dataset = EmbeddingsDataloader(width=frames_per_datapoint, mode='test', overlap=True)\n",
    "test_dataloader = DataLoader(test_dataset, batch_size=512)\n",
    "def test():\n",
    "    with torch.no_grad():\n",
    "        total_attempts = 0\n",
    "        correct = 0\n",
    "        for x, y in test_dataloader:\n",
    "            x, y = x.to(device), y.to(device)\n",
    "            res = model(x)\n",
    "            # label = one_hot(y[:,-1].type(torch.int64), num_classes=9).float()\n",
    "            total_attempts += x.shape[0]\n",
    "            correct += float((y[:,-1] == torch.argmax(res, dim=-1)).sum())\n",
    "        return round(correct / total_attempts, 3)\n",
    "\n",
    "test()"
   ]
  }
 ],
 "metadata": {
  "kernelspec": {
   "display_name": "compviz2",
   "language": "python",
   "name": "python3"
  },
  "language_info": {
   "codemirror_mode": {
    "name": "ipython",
    "version": 3
   },
   "file_extension": ".py",
   "mimetype": "text/x-python",
   "name": "python",
   "nbconvert_exporter": "python",
   "pygments_lexer": "ipython3",
   "version": "3.9.16"
  },
  "orig_nbformat": 4
 },
 "nbformat": 4,
 "nbformat_minor": 2
}
