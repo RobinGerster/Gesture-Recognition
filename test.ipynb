{
 "cells": [
  {
   "cell_type": "code",
   "execution_count": 1,
   "metadata": {},
   "outputs": [
    {
     "name": "stdout",
     "output_type": "stream",
     "text": [
      "(tensor([0., 1., 2., 3., 4., 5., 6., 7., 8.]), tensor([42178,  2440,  4325,  3799,  3806,  3871,  3563,  4296,  4565]))\n",
      "tensor([6., 6., 6., 6., 6., 6., 6., 6., 6., 6., 6., 6., 6., 6., 6., 6.])\n"
     ]
    }
   ],
   "source": [
    "from dataloader import EmbeddingsDataloader\n",
    "\n",
    "dd = EmbeddingsDataloader()\n",
    "x, y = dd[155]\n",
    "print(y)"
   ]
  }
 ],
 "metadata": {
  "kernelspec": {
   "display_name": "compviz2",
   "language": "python",
   "name": "python3"
  },
  "language_info": {
   "codemirror_mode": {
    "name": "ipython",
    "version": 3
   },
   "file_extension": ".py",
   "mimetype": "text/x-python",
   "name": "python",
   "nbconvert_exporter": "python",
   "pygments_lexer": "ipython3",
   "version": "3.9.16"
  },
  "orig_nbformat": 4
 },
 "nbformat": 4,
 "nbformat_minor": 2
}
